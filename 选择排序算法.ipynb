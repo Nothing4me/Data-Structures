{
 "cells": [
  {
   "cell_type": "markdown",
   "metadata": {},
   "source": [
    "选择排序算法"
   ]
  },
  {
   "cell_type": "code",
   "execution_count": 94,
   "metadata": {
    "scrolled": true
   },
   "outputs": [
    {
     "data": {
      "text/plain": [
       "['A', 'B', 'C', 'D']"
      ]
     },
     "execution_count": 94,
     "metadata": {},
     "output_type": "execute_result"
    }
   ],
   "source": [
    "arr = ['B','A','D','C']\n",
    "#arr = [4,3,5,6,12,45,1,2]\n",
    "def selectionSort(arr, n):\n",
    "    for i in range(n):\n",
    "        #寻找[i,n)区间里的最小值\n",
    "        minIndex = i;\n",
    "        #print(i)\n",
    "        for j in range(i,n):\n",
    "            #print(j)\n",
    "            if arr[j] < arr[minIndex]:\n",
    "                minIndex = j;\n",
    "        arr[i], arr[minIndex] = arr[minIndex], arr[i]\n",
    "    return arr\n",
    "selectionSort(arr,len(arr))"
   ]
  },
  {
   "cell_type": "markdown",
   "metadata": {},
   "source": [
    "计算程序所用时间"
   ]
  },
  {
   "cell_type": "code",
   "execution_count": 71,
   "metadata": {},
   "outputs": [],
   "source": [
    "import time\n",
    "time_start=time.process_time()\n",
    "time_end=time.process_time()\n",
    "#print('totally cost',time_end-time_start,'s')"
   ]
  },
  {
   "cell_type": "markdown",
   "metadata": {},
   "source": [
    "生成所需要的排序数组"
   ]
  },
  {
   "cell_type": "code",
   "execution_count": 105,
   "metadata": {},
   "outputs": [],
   "source": [
    "#生成有n个元素的随机数组，每个元素的随即范围为[rangeL, rangeR]\n",
    "import random\n",
    "def generateRandomArray(n, rangeL, rangeR):   \n",
    "    assert(n > 0)\n",
    "    start, stop = (int(rangeL), int(rangeR)) if rangeL <= rangeR else (int(rangeR), int(rangeL))\n",
    "    arr = []\n",
    "    for i in range(n):\n",
    "        arr.append(random.randint(start, stop))\n",
    "    return arr\n",
    "#n = 100;\n",
    "#generateRandomArray(n,0,n);"
   ]
  },
  {
   "cell_type": "markdown",
   "metadata": {},
   "source": [
    "判断排序算法是否正确的函数"
   ]
  },
  {
   "cell_type": "code",
   "execution_count": 46,
   "metadata": {},
   "outputs": [],
   "source": [
    "#判断排序算法是否正确的函数\n",
    "def isSorted(arr,n):\n",
    "    for i in range(n-1):\n",
    "        if arr[i] > arr[i+1]:\n",
    "            return False\n",
    "    return True"
   ]
  },
  {
   "cell_type": "markdown",
   "metadata": {},
   "source": [
    "测试函数是否正常运行"
   ]
  },
  {
   "cell_type": "code",
   "execution_count": 49,
   "metadata": {},
   "outputs": [
    {
     "name": "stdout",
     "output_type": "stream",
     "text": [
      "True\n"
     ]
    }
   ],
   "source": [
    "#测试函数是否正常\n",
    "arr = [1,2,3,4]\n",
    "n = 4\n",
    "print(isSorted(arr,n))\n",
    "assert(isSorted(arr,n))\n",
    "#使用assert函数判断是否正确排序，如果没有成功排序则跳出报错"
   ]
  },
  {
   "cell_type": "code",
   "execution_count": 113,
   "metadata": {},
   "outputs": [
    {
     "name": "stdout",
     "output_type": "stream",
     "text": [
      "totally cost 459.96875 s\n"
     ]
    },
    {
     "data": {
      "text/plain": [
       "True"
      ]
     },
     "execution_count": 113,
     "metadata": {},
     "output_type": "execute_result"
    }
   ],
   "source": [
    "import random,time\n",
    "n = 100000;\n",
    "arr = generateRandomArray(n,0,n);\n",
    "time_start=time.process_time()\n",
    "arr = selectionSort(arr,n)\n",
    "time_end=time.process_time()\n",
    "print('totally cost',time_end-time_start,'s')\n",
    "isSorted(arr,n)"
   ]
  }
 ],
 "metadata": {
  "kernelspec": {
   "display_name": "Python 3",
   "language": "python",
   "name": "python3"
  },
  "language_info": {
   "codemirror_mode": {
    "name": "ipython",
    "version": 3
   },
   "file_extension": ".py",
   "mimetype": "text/x-python",
   "name": "python",
   "nbconvert_exporter": "python",
   "pygments_lexer": "ipython3",
   "version": "3.7.4"
  }
 },
 "nbformat": 4,
 "nbformat_minor": 2
}
